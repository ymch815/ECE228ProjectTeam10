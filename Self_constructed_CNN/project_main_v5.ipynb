{
 "cells": [
  {
   "cell_type": "markdown",
   "metadata": {},
   "source": [
    "# Use CNN to detect breast cancer "
   ]
  },
  {
   "cell_type": "code",
   "execution_count": 1,
   "metadata": {},
   "outputs": [],
   "source": [
    "# General packages\n",
    "import numpy as np\n",
    "\n",
    "from glob import glob\n",
    "import matplotlib.pyplot as plt\n",
    "import random\n",
    "\n",
    "from matplotlib.image import imread\n",
    "import cv2\n",
    "\n",
    "# split the training and testing set\n",
    "from sklearn.model_selection import train_test_split\n",
    "\n",
    "# put data to category\n",
    "from keras.utils.np_utils import to_categorical\n",
    "\n",
    "# buidl a network\n",
    "from keras.models import Sequential\n",
    "\n",
    "# package for constructing the NN\n",
    "from keras.layers import Dense, Dropout, Activation, Flatten, BatchNormalization, Conv2D, MaxPooling2D\n",
    "\n",
    "# package for optimization\n",
    "from tensorflow.keras.optimizers import Adam\n",
    "\n",
    "# package for visualizing the network\n",
    "import visualkeras\n"
   ]
  },
  {
   "cell_type": "code",
   "execution_count": 3,
   "metadata": {},
   "outputs": [
    {
     "name": "stdout",
     "output_type": "stream",
     "text": [
      "../ECE 228/archive/IDC_regular_ps50_idx5/9036/0/9036_idx5_x1051_y2401_class0.png\n",
      "../ECE 228/archive/IDC_regular_ps50_idx5/9036/0/9036_idx5_x2951_y951_class0.png\n",
      "../ECE 228/archive/IDC_regular_ps50_idx5/9036/0/9036_idx5_x3001_y1451_class0.png\n",
      "../ECE 228/archive/IDC_regular_ps50_idx5/9036/0/9036_idx5_x3051_y801_class0.png\n",
      "../ECE 228/archive/IDC_regular_ps50_idx5/9036/0/9036_idx5_x951_y1901_class0.png\n"
     ]
    }
   ],
   "source": [
    "# test to see if the data directory is correct \n",
    "fd = '../ECE 228/archive/IDC_regular_ps50_idx5'\n",
    "\n",
    "imagePatches = glob(fd + '/**/*.png', recursive=True)\n",
    "for filename in imagePatches[0:5]:\n",
    "    print(filename)"
   ]
  },
  {
   "cell_type": "code",
   "execution_count": 4,
   "metadata": {},
   "outputs": [
    {
     "data": {
      "text/plain": [
       "277524"
      ]
     },
     "execution_count": 4,
     "metadata": {},
     "output_type": "execute_result"
    }
   ],
   "source": [
    "# total number of images\n",
    "len(imagePatches)"
   ]
  },
  {
   "cell_type": "code",
   "execution_count": 5,
   "metadata": {},
   "outputs": [
    {
     "data": {
      "text/plain": [
       "'Size of the class 0 = '"
      ]
     },
     "metadata": {},
     "output_type": "display_data"
    },
    {
     "data": {
      "text/plain": [
       "198738"
      ]
     },
     "metadata": {},
     "output_type": "display_data"
    },
    {
     "data": {
      "text/plain": [
       "'Size of the class 1 = '"
      ]
     },
     "metadata": {},
     "output_type": "display_data"
    },
    {
     "data": {
      "text/plain": [
       "78786"
      ]
     },
     "metadata": {},
     "output_type": "display_data"
    }
   ],
   "source": [
    "# bin the data to cancer and no cancer\n",
    "\n",
    "class0 = [] # 0 = no cancer\n",
    "class1 = [] # 1 = cancer\n",
    "\n",
    "for filename in imagePatches:\n",
    "    if filename.endswith(\"class0.png\"):\n",
    "         class0.append(filename)\n",
    "    else:\n",
    "        class1.append(filename)\n",
    "\n",
    "display('Size of the class 0 = ',len(class0))\n",
    "display('Size of the class 1 = ',len(class1))"
   ]
  },
  {
   "cell_type": "code",
   "execution_count": 7,
   "metadata": {},
   "outputs": [],
   "source": [
    "# randomly select 70000 images from each class\n",
    "\n",
    "num_sample_selected = 70000\n",
    "rand_sample_class0 = random.sample(class0, num_sample_selected)\n",
    "rand_sample_class1 = random.sample(class1, num_sample_selected)\n"
   ]
  },
  {
   "cell_type": "code",
   "execution_count": 9,
   "metadata": {},
   "outputs": [],
   "source": [
    "# function to read images and store the images to array\n",
    "def get_image_arrays(data, label):\n",
    "    img_arrays = []\n",
    "    for i in data:\n",
    "        if i.endswith('.png'):\n",
    "            img = imread(i )\n",
    "            img_sized = cv2.resize(img, (50, 50), interpolation=cv2.INTER_LINEAR)\n",
    "            img_arrays.append([img_sized, label])\n",
    "    return img_arrays"
   ]
  },
  {
   "cell_type": "code",
   "execution_count": 10,
   "metadata": {},
   "outputs": [],
   "source": [
    "# read and store the negative and positive patch images\n",
    "class0_array = get_image_arrays(rand_sample_class0, 0)\n",
    "class1_array = get_image_arrays(rand_sample_class1, 1)"
   ]
  },
  {
   "cell_type": "code",
   "execution_count": 12,
   "metadata": {},
   "outputs": [
    {
     "data": {
      "text/plain": [
       "(50, 50, 3)"
      ]
     },
     "metadata": {},
     "output_type": "display_data"
    },
    {
     "data": {
      "image/png": "[encoded data removed]",
      "text/plain": [
       "<Figure size 432x288 with 1 Axes>"
      ]
     },
     "metadata": {
      "needs_background": "light"
     },
     "output_type": "display_data"
    }
   ],
   "source": [
    "# choose one of the image to plot to see what the data looks like\n",
    "test = cv2.imread(fd + '/13689/1/13689_idx5_x801_y1501_class1.png' ,cv2.IMREAD_COLOR)\n",
    "plt.imshow(test)\n",
    "\n",
    "display(test.shape)"
   ]
  },
  {
   "cell_type": "code",
   "execution_count": 13,
   "metadata": {},
   "outputs": [
    {
     "name": "stderr",
     "output_type": "stream",
     "text": [
      "<__array_function__ internals>:5: VisibleDeprecationWarning: Creating an ndarray from ragged nested sequences (which is a list-or-tuple of lists-or-tuples-or ndarrays with different lengths or shapes) is deprecated. If you meant to do this, you must specify 'dtype=object' when creating the ndarray.\n"
     ]
    }
   ],
   "source": [
    "# combine the class 0 and class 1 data\n",
    "combined_data = np.concatenate((class0_array, class1_array))\n",
    "\n",
    "# array of index for shuffling\n",
    "idx_arr = list(range(combined_data.shape[0]))\n",
    "\n",
    "random.seed(10)\n",
    "\n",
    "# shuffling the combine data\n",
    "random.shuffle(idx_arr)\n",
    "\n",
    "# shuffled data to be used for selecting training and testing\n",
    "combined_data = combined_data[idx_arr,:]"
   ]
  },
  {
   "cell_type": "code",
   "execution_count": 14,
   "metadata": {},
   "outputs": [
    {
     "data": {
      "text/plain": [
       "(array([70000.,     0.,     0.,     0.,     0.,     0.,     0.,     0.,\n",
       "            0., 70000.]),\n",
       " array([0.0, 0.1, 0.2, 0.30000000000000004, 0.4, 0.5, 0.6000000000000001,\n",
       "        0.7000000000000001, 0.8, 0.9, 1.0], dtype=object),\n",
       " <BarContainer object of 10 artists>)"
      ]
     },
     "execution_count": 14,
     "metadata": {},
     "output_type": "execute_result"
    },
    {
     "data": {
      "image/png": "[encoded data removed]",
      "text/plain": [
       "<Figure size 432x288 with 1 Axes>"
      ]
     },
     "metadata": {
      "needs_background": "light"
     },
     "output_type": "display_data"
    }
   ],
   "source": [
    "# test to see if the dataset is balance between negative and positive patches\n",
    "plt.hist(combined_data[:,1])"
   ]
  },
  {
   "cell_type": "code",
   "execution_count": 15,
   "metadata": {},
   "outputs": [],
   "source": [
    "# separate the pixel value and patch label \n",
    "X = []\n",
    "y = []\n",
    "\n",
    "for i in range(combined_data.shape[0]):\n",
    "    X.append(combined_data[i][0])\n",
    "    y.append(combined_data[i][1])\n",
    "\n",
    "\n",
    "# transform the array to the correct shape\n",
    "X = np.array(X).reshape(-1, 50, 50, 3)\n",
    "\n",
    "X.shape"
   ]
  },
  {
   "cell_type": "code",
   "execution_count": 19,
   "metadata": {},
   "outputs": [
    {
     "name": "stdout",
     "output_type": "stream",
     "text": [
      "(112000, 50, 50, 3) (28000, 50, 50, 3) (112000, 2) (28000, 2)\n"
     ]
    }
   ],
   "source": [
    "# splitting the dataset to training and testing data set\n",
    "X_train, X_test, y_train, y_test = train_test_split(X, y, test_size=0.2, random_state=10)\n",
    "y_train = to_categorical(y_train)\n",
    "y_test = to_categorical(y_test)\n",
    "print(X_train.shape, X_test.shape, y_train.shape, y_test.shape)"
   ]
  },
  {
   "cell_type": "code",
   "execution_count": 20,
   "metadata": {},
   "outputs": [],
   "source": [
    "# Here, we have select a few models that we tried \n",
    "\n",
    "# model_final is the model that we find is the best performing \n",
    "def model_final():    \n",
    "    # from May 26th \n",
    "    # this model gives the accuracy of around 87.5%     \n",
    "    model = Sequential()\n",
    "    model.add(Conv2D(filters = 64, kernel_size=3,padding ='Same', activation='relu',  kernel_initializer='glorot_uniform',input_shape=(50,50,3)))\n",
    "    model.add(Conv2D(filters = 64, kernel_size=3,padding ='Same', kernel_initializer='glorot_uniform', activation='relu'))\n",
    "    model.add(MaxPooling2D((2, 2)))\n",
    "    model.add(Dropout(0.25))\n",
    "\n",
    "    model.add(Conv2D(filters = 32, kernel_size=3, activation='relu',  kernel_initializer='glorot_uniform'))\n",
    "    model.add(Conv2D(filters = 32, kernel_size=3, kernel_initializer='glorot_uniform', activation='relu'))\n",
    "    model.add(MaxPooling2D((2, 2)))\n",
    "    model.add(Dropout(0.25))\n",
    "\n",
    "    model.add(Conv2D(filters = 16, kernel_size=3, activation='relu',  kernel_initializer='glorot_uniform'))\n",
    "    model.add(Conv2D(filters = 16, kernel_size=3, kernel_initializer='glorot_uniform', activation='relu'))\n",
    "    model.add(Dropout(0.25))\n",
    "\n",
    "    model.add(Flatten())\n",
    "\n",
    "    model.add(Dense(32, activation=\"softmax\"))\n",
    "    model.add(Dropout(0.2))\n",
    "    model.add(Dense(16, activation=\"softmax\"))\n",
    "    model.add(Dropout(0.2))\n",
    "\n",
    "    model.add(Dense(2, activation=\"softmax\"))\n",
    "\n",
    "    adam = Adam(learning_rate=0.0001)\n",
    "\n",
    "    model.compile(loss=\"binary_crossentropy\", optimizer=adam, metrics=['accuracy'])   \n",
    "    \n",
    "    return model\n",
    "\n",
    "\n",
    "# The followings are a few models that we tried \n",
    "\n",
    "def model_test_1():  \n",
    "\n",
    "    # this model gives the accuracy of around 85%      \n",
    "    model = Sequential()\n",
    "\n",
    "    model.add(Conv2D(filters = 64, kernel_size=3, activation='relu',  kernel_initializer='glorot_uniform',input_shape=(50,50,3)))\n",
    "    model.add(Dropout(0.25))\n",
    "    model.add(MaxPooling2D((2, 2)))\n",
    "\n",
    "    model.add(Conv2D(filters = 32, kernel_size=3,  kernel_initializer='glorot_uniform', activation='relu'))\n",
    "    model.add(Dropout(0.25))\n",
    "    model.add(MaxPooling2D((2, 2)))\n",
    "    \n",
    "    model.add(Conv2D(filters = 16, kernel_size=3,  kernel_initializer='glorot_uniform',activation='relu'))\n",
    "    model.add(MaxPooling2D((2, 2)))\n",
    "\n",
    "    model.add(Flatten())\n",
    "\n",
    "    model.add(Dense(128, activation=\"softmax\"))\n",
    "\n",
    "    model.add(Dropout(0.2))\n",
    "    model.add(Dense(2, activation=\"softmax\"))\n",
    "\n",
    "    adam = Adam(learning_rate=0.0001)\n",
    "    \n",
    "    model.compile(loss=\"binary_crossentropy\", optimizer=adam, metrics=['accuracy'])   \n",
    "    \n",
    "    return model\n",
    "\n",
    "\n",
    "\n",
    "def model_test_2():        \n",
    "    model = Sequential()\n",
    "    model.add(Conv2D(filters = 64, kernel_size=3, activation='relu',  kernel_initializer='glorot_uniform',input_shape=(50,50,3)))\n",
    "    model.add(Dropout(0.25))\n",
    "    model.add(MaxPooling2D((2, 2)))\n",
    "    model.add(Conv2D(filters = 32, kernel_size=3,  kernel_initializer='glorot_uniform', activation='relu'))\n",
    "    model.add(Dropout(0.25))\n",
    "    model.add(MaxPooling2D((2, 2)))\n",
    "    model.add(Conv2D(filters = 16, kernel_size=3,  kernel_initializer='glorot_uniform',activation='relu'))\n",
    "    model.add(MaxPooling2D((2, 2)))\n",
    "    model.add(Flatten())\n",
    "    model.add(Dense(128, activation=\"softmax\"))\n",
    "    model.add(Dropout(0.2))\n",
    "    model.add(Dense(2, activation=\"softmax\"))\n",
    "    adam = Adam(learning_rate=0.0001)\n",
    "    model.compile(loss=\"binary_crossentropy\", optimizer=adam, metrics=['accuracy'])   \n",
    "    return model\n",
    "\n",
    "def model_test_3():        \n",
    "    model = Sequential()\n",
    "    model.add(Conv2D(filters = 16, kernel_size=3, activation='relu', input_shape=(50,50,3)))\n",
    "    model.add(Dropout(0.25))\n",
    "    model.add(MaxPooling2D((2, 2)))\n",
    "    model.add(Conv2D(filters = 32, kernel_size=3, activation='relu'))\n",
    "    model.add(Dropout(0.25))\n",
    "    model.add(MaxPooling2D((2, 2)))\n",
    "    model.add(Conv2D(filters = 64, kernel_size=3, activation='relu'))\n",
    "    model.add(MaxPooling2D((2, 2)))\n",
    "    model.add(Flatten())\n",
    "    model.add(Dense(64, activation=\"softmax\"))\n",
    "    model.add(Dense(2, activation=\"softmax\"))\n",
    "    adam = Adam(learning_rate=0.0001)\n",
    "    model.compile(loss=\"binary_crossentropy\", optimizer=adam, metrics=['accuracy'])   \n",
    "  \n",
    "\n",
    "\n",
    "    return model\n"
   ]
  },
  {
   "cell_type": "code",
   "execution_count": 21,
   "metadata": {},
   "outputs": [
    {
     "name": "stdout",
     "output_type": "stream",
     "text": [
      "Epoch 1/30\n",
      "3500/3500 - 499s - loss: 0.6705 - accuracy: 0.6676 - val_loss: 0.6551 - val_accuracy: 0.7259 - 499s/epoch - 143ms/step\n",
      "Epoch 2/30\n",
      "3500/3500 - 500s - loss: 0.6170 - accuracy: 0.7332 - val_loss: 0.5755 - val_accuracy: 0.8069 - 500s/epoch - 143ms/step\n",
      "Epoch 3/30\n",
      "3500/3500 - 522s - loss: 0.5706 - accuracy: 0.7422 - val_loss: 0.5299 - val_accuracy: 0.8049 - 522s/epoch - 149ms/step\n",
      "Epoch 4/30\n",
      "3500/3500 - 507s - loss: 0.5380 - accuracy: 0.7517 - val_loss: 0.4883 - val_accuracy: 0.8162 - 507s/epoch - 145ms/step\n",
      "Epoch 5/30\n",
      "3500/3500 - 501s - loss: 0.5143 - accuracy: 0.7580 - val_loss: 0.4544 - val_accuracy: 0.8313 - 501s/epoch - 143ms/step\n",
      "Epoch 6/30\n",
      "3500/3500 - 502s - loss: 0.4949 - accuracy: 0.7677 - val_loss: 0.4297 - val_accuracy: 0.8379 - 502s/epoch - 143ms/step\n",
      "Epoch 7/30\n",
      "3500/3500 - 504s - loss: 0.4828 - accuracy: 0.7775 - val_loss: 0.4177 - val_accuracy: 0.8404 - 504s/epoch - 144ms/step\n",
      "Epoch 8/30\n",
      "3500/3500 - 516s - loss: 0.4690 - accuracy: 0.7909 - val_loss: 0.4039 - val_accuracy: 0.8445 - 516s/epoch - 147ms/step\n",
      "Epoch 9/30\n",
      "3500/3500 - 1398s - loss: 0.4571 - accuracy: 0.8053 - val_loss: 0.3997 - val_accuracy: 0.8467 - 1398s/epoch - 399ms/step\n",
      "Epoch 10/30\n",
      "3500/3500 - 559s - loss: 0.4434 - accuracy: 0.8199 - val_loss: 0.3891 - val_accuracy: 0.8501 - 559s/epoch - 160ms/step\n",
      "Epoch 11/30\n",
      "3500/3500 - 523s - loss: 0.4305 - accuracy: 0.8282 - val_loss: 0.3981 - val_accuracy: 0.8386 - 523s/epoch - 150ms/step\n",
      "Epoch 12/30\n",
      "3500/3500 - 532s - loss: 0.4201 - accuracy: 0.8327 - val_loss: 0.3835 - val_accuracy: 0.8475 - 532s/epoch - 152ms/step\n",
      "Epoch 13/30\n",
      "3500/3500 - 524s - loss: 0.4094 - accuracy: 0.8365 - val_loss: 0.3811 - val_accuracy: 0.8428 - 524s/epoch - 150ms/step\n",
      "Epoch 14/30\n",
      "3500/3500 - 507s - loss: 0.4031 - accuracy: 0.8375 - val_loss: 0.3595 - val_accuracy: 0.8566 - 507s/epoch - 145ms/step\n",
      "Epoch 15/30\n",
      "3500/3500 - 513s - loss: 0.3962 - accuracy: 0.8407 - val_loss: 0.3573 - val_accuracy: 0.8567 - 513s/epoch - 147ms/step\n",
      "Epoch 16/30\n",
      "3500/3500 - 485s - loss: 0.3906 - accuracy: 0.8427 - val_loss: 0.3555 - val_accuracy: 0.8571 - 485s/epoch - 139ms/step\n",
      "Epoch 17/30\n",
      "3500/3500 - 487s - loss: 0.3857 - accuracy: 0.8452 - val_loss: 0.3556 - val_accuracy: 0.8592 - 487s/epoch - 139ms/step\n",
      "Epoch 18/30\n",
      "3500/3500 - 487s - loss: 0.3797 - accuracy: 0.8471 - val_loss: 0.3412 - val_accuracy: 0.8621 - 487s/epoch - 139ms/step\n",
      "Epoch 19/30\n",
      "3500/3500 - 480s - loss: 0.3756 - accuracy: 0.8484 - val_loss: 0.3618 - val_accuracy: 0.8513 - 480s/epoch - 137ms/step\n",
      "Epoch 20/30\n",
      "3500/3500 - 492s - loss: 0.3720 - accuracy: 0.8511 - val_loss: 0.3375 - val_accuracy: 0.8630 - 492s/epoch - 141ms/step\n",
      "Epoch 21/30\n",
      "3500/3500 - 476s - loss: 0.3682 - accuracy: 0.8529 - val_loss: 0.3323 - val_accuracy: 0.8656 - 476s/epoch - 136ms/step\n",
      "Epoch 22/30\n",
      "3500/3500 - 483s - loss: 0.3646 - accuracy: 0.8536 - val_loss: 0.3436 - val_accuracy: 0.8559 - 483s/epoch - 138ms/step\n",
      "Epoch 23/30\n",
      "3500/3500 - 483s - loss: 0.3597 - accuracy: 0.8571 - val_loss: 0.3319 - val_accuracy: 0.8650 - 483s/epoch - 138ms/step\n",
      "Epoch 24/30\n",
      "3500/3500 - 488s - loss: 0.3568 - accuracy: 0.8583 - val_loss: 0.3447 - val_accuracy: 0.8579 - 488s/epoch - 140ms/step\n",
      "Epoch 25/30\n",
      "3500/3500 - 466s - loss: 0.3536 - accuracy: 0.8585 - val_loss: 0.3349 - val_accuracy: 0.8623 - 466s/epoch - 133ms/step\n",
      "Epoch 26/30\n",
      "3500/3500 - 454s - loss: 0.3512 - accuracy: 0.8606 - val_loss: 0.3348 - val_accuracy: 0.8643 - 454s/epoch - 130ms/step\n",
      "Epoch 27/30\n",
      "3500/3500 - 474s - loss: 0.3472 - accuracy: 0.8631 - val_loss: 0.3253 - val_accuracy: 0.8662 - 474s/epoch - 135ms/step\n",
      "Epoch 28/30\n",
      "3500/3500 - 480s - loss: 0.3452 - accuracy: 0.8621 - val_loss: 0.3462 - val_accuracy: 0.8568 - 480s/epoch - 137ms/step\n",
      "Epoch 29/30\n",
      "3500/3500 - 487s - loss: 0.3410 - accuracy: 0.8650 - val_loss: 0.3307 - val_accuracy: 0.8618 - 487s/epoch - 139ms/step\n",
      "Epoch 30/30\n",
      "3500/3500 - 488s - loss: 0.3372 - accuracy: 0.8669 - val_loss: 0.3204 - val_accuracy: 0.8695 - 488s/epoch - 139ms/step\n"
     ]
    }
   ],
   "source": [
    "# training and testing the data \n",
    "model = model_final()\n",
    "\n",
    "history = model.fit(\n",
    "    X_train, y_train,\n",
    "    validation_data=(X_test, y_test),\n",
    "    epochs= 30,\n",
    "    verbose = 2,\n",
    ")"
   ]
  },
  {
   "cell_type": "code",
   "execution_count": 26,
   "metadata": {},
   "outputs": [
    {
     "data": {
      "image/png": "[encoded data removed]",
      "text/plain": [
       "<Figure size 720x360 with 2 Axes>"
      ]
     },
     "metadata": {
      "needs_background": "light"
     },
     "output_type": "display_data"
    }
   ],
   "source": [
    "# plotting the result\n",
    "fig, axs = plt.subplots(1,3,figsize=(10,5))\n",
    "\n",
    "plt.subplot(1, 2, 1)\n",
    "plt.plot(history.history['accuracy'])\n",
    "plt.plot(history.history['val_accuracy'])\n",
    "plt.title('Model Accuracy')\n",
    "plt.ylabel('accuracy')\n",
    "plt.xlabel('epoch')\n",
    "plt.legend(['Training', 'Validation'], loc='upper left')\n",
    "\n",
    "\n",
    "plt.subplot(1, 2, 2)\n",
    "plt.plot(history.history['loss'])\n",
    "plt.plot(history.history['val_loss'])\n",
    "plt.title('Model loss')\n",
    "plt.ylabel('loss')\n",
    "plt.xlabel('epoch')\n",
    "plt.legend(['Training', 'Validation'], loc='upper right')\n",
    "\n",
    "fig.tight_layout()\n",
    "plt.show()"
   ]
  },
  {
   "cell_type": "code",
   "execution_count": null,
   "metadata": {},
   "outputs": [],
   "source": [
    "# summary of the model\n",
    "model.summary()"
   ]
  },
  {
   "cell_type": "code",
   "execution_count": null,
   "metadata": {},
   "outputs": [],
   "source": [
    "# visualizing the CNN structure\n",
    "visualkeras.layered_view(model, legend=True)"
   ]
  }
 ],
 "metadata": {
  "interpreter": {
   "hash": "29b0920499b0c8bb7cf3bb6fd9ab7a0e1eb3bd4ecaa5a279e30c2b56b95af1d5"
  },
  "kernelspec": {
   "display_name": "Python 3.7.4 ('base')",
   "language": "python",
   "name": "python3"
  },
  "language_info": {
   "codemirror_mode": {
    "name": "ipython",
    "version": 3
   },
   "file_extension": ".py",
   "mimetype": "text/x-python",
   "name": "python",
   "nbconvert_exporter": "python",
   "pygments_lexer": "ipython3",
   "version": "3.9.7"
  },
  "orig_nbformat": 4
 },
 "nbformat": 4,
 "nbformat_minor": 2
}
